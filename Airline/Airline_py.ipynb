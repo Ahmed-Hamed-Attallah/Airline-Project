{
 "cells": [
  {
   "cell_type": "code",
   "execution_count": 2,
   "metadata": {},
   "outputs": [
    {
     "name": "stdout",
     "output_type": "stream",
     "text": [
      "Writing Dashboard-page.py\n"
     ]
    }
   ],
   "source": [
    "%%writefile Dashboard-page.py\n",
    "import streamlit as st\n",
    "import plotly.express as px \n",
    "import pandas as pd\n",
    "st.set_page_config(page_icon='🛫' , page_title = 'Airline Dashboard')\n",
    "with st.sidebar():\n",
    "    \n",
    "\n",
    "df = pd.read_csv('Airline_edite.csv')\n",
    "\n",
    "\n",
    "tab , tab2 , tab3= st.tabs(['Data descriptive','catigorical charts','nomerical charts'])\n",
    "###########################################################_TAB_######################################################################################\n",
    "with tab :\n",
    "    st.markdown('<h3 style=\"text-align: center; color :#1450DB;\">descriptive stat and Dataset</h3>',unsafe_allow_html=True)\n",
    "    st.dataframe(df)\n",
    "    col1 , col2 , col3 = st.columns([1,0.15,1])\n",
    "    with col1 :\n",
    "        st.markdown('<h4 style=\"text-align: center; color :green;\">descriptive stat(numirec)</h3>', unsafe_allow_html=True)\n",
    "        numeric_data = df.select_dtypes(include=['number'])\n",
    "        st.dataframe(numeric_data.describe())\n",
    "    with col3 :\n",
    "        st.markdown('<h4 style=\"text-align: center; color :red;\">descriptive stat(catigorec)</h3>', unsafe_allow_html=True)\n",
    "        categorical_data = df.select_dtypes(include=['object'])\n",
    "        st.dataframe(categorical_data.describe())\n",
    "\n",
    "################################################################_TAB2_###################################################################################\n",
    "with tab2 :\n",
    "    columns = [None]+categorical_data.columns.to_list()\n",
    "    col1 , col2 , col3 = st.columns([1,0.10,1])\n",
    "    with col1 :\n",
    "        x = st.selectbox('select x column:',columns)\n",
    "    with col3 :\n",
    "        color = st.selectbox('''do want coloring?!\n",
    "        select color baised on eny column from here:''',columns)\n",
    "    if x !=None:\n",
    "        if color != None:\n",
    "            st.plotly_chart(px.histogram(categorical_data,x=x,color=color,text_auto = True,title = f'Histogram for {x}'),use_container_width=True)\n",
    "        elif color ==None :\n",
    "            st.plotly_chart(px.histogram(df,x=x,color=x,text_auto=True,title=f'Histogram for {x}') , use_container_width=True)\n",
    "        co , co1 , co2 = st.columns([1,0.10,1])\n",
    "        with co :\n",
    "            st.plotly_chart(px.sunburst(df,path = [x] , title = f'sunburst chart for {x} column'), use_container_width=True)\n",
    "        with co2 :\n",
    "            st.plotly_chart(px.pie(df,names = x , title = f'pie chart for {x} column'))\n",
    "\n",
    "        st.plotly_chart(px.treemap(df,path=[x],color = x , title=f'Treemap for {x}'),use_container_width=True)\n",
    "    else :\n",
    "        None\n",
    "\n",
    "#################################################################_TAB3_##################################################################################\n",
    "    \n",
    "with tab3 :\n",
    "    x2 = st.selectbox('select colomun from here',[None]+numeric_data.columns.to_list())\n",
    "    if x2 != None :\n",
    "        st.plotly_chart(px.histogram(df,x=x2 , title=f'Histogram for {x2}'),use_container_width=True)\n",
    "    else :\n",
    "        None\n",
    "    col , col1 , col2 = st.columns([1,0.10,1])\n",
    "    with col:\n",
    "        y = st.selectbox('select y column thats contain numerical data to be clear for your eyes',[None]+numeric_data.columns.to_list())\n",
    "    with col2 :\n",
    "        x3 = st.selectbox('select x  column for scatter plot' ,[None]+categorical_data.columns.to_list())\n",
    "    if y != None :\n",
    "        st.plotly_chart(px.scatter(df,x=x3,y=y , color=color,title=f'Scattar for {y}'),use_container_width=True)\n",
    "    else :\n",
    "        None"
   ]
  },
  {
   "cell_type": "code",
   "execution_count": 4,
   "metadata": {},
   "outputs": [
    {
     "name": "stderr",
     "output_type": "stream",
     "text": [
      "A subdirectory or file App already exists.\n"
     ]
    }
   ],
   "source": [
    "%mkdir App"
   ]
  },
  {
   "cell_type": "code",
   "execution_count": 5,
   "metadata": {},
   "outputs": [
    {
     "name": "stdout",
     "output_type": "stream",
     "text": [
      "d:\\project\\Machine learning Projects\\Airline\\App\n"
     ]
    }
   ],
   "source": [
    "%cd App/"
   ]
  },
  {
   "cell_type": "code",
   "execution_count": 6,
   "metadata": {},
   "outputs": [
    {
     "name": "stdout",
     "output_type": "stream",
     "text": [
      "Writing Model-page.py\n"
     ]
    }
   ],
   "source": [
    "%%writefile Model-page.py\n",
    "import streamlit as st\n",
    "import pandas as pd \n",
    "import numpy as np\n",
    "import joblib\n",
    "\n",
    "st.set_page_config(page_title='Airline Model' , page_icon='🛫')\n",
    "\n",
    "model = joblib.load('KNN_model.pkl')\n",
    "df = pd.read_csv('Airline.csv')\n",
    "\n",
    "def Prediction(Airline,month,Source,Destination,Route,Duration,Total_Stops,Additional_Info):\n",
    "       x = pd.DataFrame(columns=['Airline', 'month(2019)', 'Source', 'Destination', 'Route', 'Duration',\n",
    "       'Total_Stops', 'Additional_Info'])\n",
    "\n",
    "       x.at[0,'Airline'] = Airline\n",
    "       x.at[0,'month(2019)'] = month\n",
    "       x.at[0,'Source'] = Source\n",
    "       x.at[0,'Destination'] = Destination\n",
    "       x.at[0,'Route'] = Route\n",
    "       x.at[0,'Duration'] = Duration\n",
    "       x.at[0,'Total_Stops'] = Total_Stops\n",
    "       x.at[0,'Additional_Info'] = Additional_Info\n",
    "       return f'The ticket price is approximately = {np.round(model.predict(x)[:],2)} .'\n",
    "\n",
    "co1 , co2 , co3 = st.columns([1,0.10,1])\n",
    "with co1 :\n",
    "     st.image(\"indian-pacific-logo.png\" , use_column_width=True)\n",
    "with co3 :\n",
    "     st.header('Price prediction:')\n",
    "     st.write('This model predict the price of tickets.Experimental copy(tarin on a small data)')\n",
    "col , col2 , col3 = st.columns([1,0.010,1])\n",
    "with col :\n",
    "    Airline = st.selectbox('Select Airline',df['Airline'].unique().tolist())\n",
    "    month = st.selectbox('Select month of the year' , df['month(2019)'].unique().tolist())\n",
    "    Source = st.selectbox('Select Source' , df['Source'].unique().tolist())\n",
    "    Destination = st.selectbox('Select Destination' , df['Destination'].unique().tolist())\n",
    "\n",
    "with col3 :\n",
    "    Route = st.selectbox('Select Route',df[(df['Source']==Source)&(df['Destination']==Destination)]['Route'].unique().tolist())\n",
    "    Duration = st.slider('Duration of trip',min_value = 45 , max_value = df['Duration'].max()+30 , value = df[df['Route']==Route]['Duration'].to_list()[0], step = 1)\n",
    "    Total_Stops = st.slider('Total Stops',min_value = df['Total_Stops'].min() , max_value = df['Total_Stops'].max() , value = df[df['Route']==Route]['Total_Stops'].to_list()[0] , step = 1)\n",
    "    Additional_Info = st.selectbox('Additional Info', df['Additional_Info'].unique().tolist())\n",
    "\n",
    "if st.button('Pridect'):\n",
    "    st.write(Prediction(Airline,month,Source,Destination,Route,Duration,Total_Stops,Additional_Info))\n",
    "    st.warning('Please note that this is an estimate and may be higher or lower than the actual price.')\n",
    "else :\n",
    "     st.write('Please fill data')"
   ]
  },
  {
   "cell_type": "code",
   "execution_count": null,
   "metadata": {},
   "outputs": [],
   "source": []
  }
 ],
 "metadata": {
  "kernelspec": {
   "display_name": "DS",
   "language": "python",
   "name": "python3"
  },
  "language_info": {
   "codemirror_mode": {
    "name": "ipython",
    "version": 3
   },
   "file_extension": ".py",
   "mimetype": "text/x-python",
   "name": "python",
   "nbconvert_exporter": "python",
   "pygments_lexer": "ipython3",
   "version": "3.11.8"
  }
 },
 "nbformat": 4,
 "nbformat_minor": 2
}
